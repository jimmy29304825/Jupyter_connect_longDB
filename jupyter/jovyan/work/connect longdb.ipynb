{
 "cells": [
  {
   "cell_type": "code",
   "execution_count": 2,
   "metadata": {},
   "outputs": [
    {
     "name": "stdout",
     "output_type": "stream",
     "text": [
      "row: ('6074401f-016c-f015-3903-0000011f6180', 'CUSTOMER', 'T', 'b8450018-016c-f015-3903-0000011f6180', 'R', '4.0', 8, None, None, None, None, None, 'none', False, False)\n"
     ]
    }
   ],
   "source": [
    "import pyodbc\n",
    "# Connect to LongDB\n",
    "cnxn=pyodbc.connect(\"DSN=SpliceODBC64\")\n",
    "\n",
    "# Call sql command\n",
    "cursor=cnxn.cursor()\n",
    "\n",
    "# Run sql command\n",
    "cursor.execute(\"select * from sys.systables\")\n",
    "\n",
    "# Get one row out\n",
    "row=cursor.fetchone()\n",
    "print('row:',row)\n",
    "\n",
    "# # Get all row out\n",
    "# row=cursor.fetchall()\n",
    "# print('row:',row)"
   ]
  }
 ],
 "metadata": {
  "kernelspec": {
   "display_name": "Python 3",
   "language": "python",
   "name": "python3"
  },
  "language_info": {
   "codemirror_mode": {
    "name": "ipython",
    "version": 3
   },
   "file_extension": ".py",
   "mimetype": "text/x-python",
   "name": "python",
   "nbconvert_exporter": "python",
   "pygments_lexer": "ipython3",
   "version": "3.7.3"
  }
 },
 "nbformat": 4,
 "nbformat_minor": 2
}
